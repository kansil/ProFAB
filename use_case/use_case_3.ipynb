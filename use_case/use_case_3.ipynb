{
 "cells": [
  {
   "cell_type": "markdown",
   "id": "222693a8",
   "metadata": {},
   "source": [
    "# Use Case"
   ]
  },
  {
   "cell_type": "markdown",
   "id": "afa825fd",
   "metadata": {},
   "source": [
    "This use case is a guidline how to use transformer models to convert protein sequence data to numerical feature and how to utilize deep learning methods (CNN and RNN) found in ProFAB."
   ]
  },
  {
   "cell_type": "markdown",
   "id": "4796e494",
   "metadata": {},
   "source": [
    "## a. Featurizing"
   ]
  },
  {
   "cell_type": "code",
   "execution_count": null,
   "id": "61fbc407",
   "metadata": {},
   "outputs": [],
   "source": [
    "import sys\n",
    "sys.path.insert(0, '../')"
   ]
  },
  {
   "cell_type": "code",
   "execution_count": null,
   "id": "f5f30e63",
   "metadata": {},
   "outputs": [],
   "source": [
    "from profab.model_preprocess import extract_protein_feature\n",
    "pos_feat = extract_protein_feature('T5XL', 0, \n",
    "                       'ecNo_4-1', \n",
    "                       'positive_data',\n",
    "                        take_avg = True,\n",
    "                        max_len = 100)\n",
    "neg_feat = extract_protein_feature('T5XL', 0, \n",
    "                       'ecNo_4-1', \n",
    "                       'negative_data',\n",
    "                       take_avg = True,\n",
    "                       max_len = 100)"
   ]
  },
  {
   "cell_type": "code",
   "execution_count": null,
   "id": "a8cc1707",
   "metadata": {},
   "outputs": [],
   "source": [
    "X_pos = np.loadtxt(pos_feat)\n",
    "X_neg = np.loadtxt(neg_feat)"
   ]
  },
  {
   "cell_type": "markdown",
   "id": "8b295b9f",
   "metadata": {},
   "source": [
    "## b. Splitting"
   ]
  },
  {
   "cell_type": "code",
   "execution_count": null,
   "id": "8ba79344",
   "metadata": {},
   "outputs": [],
   "source": [
    "from profab.model_preprocess.splitter import ttv_split\n",
    "X_train,X_test,y_train,y_test = ttc_split(X_pos = X_pos,X_neg = X_neg)"
   ]
  },
  {
   "cell_type": "markdown",
   "id": "3479c5e0",
   "metadata": {},
   "source": [
    "## c. Training"
   ]
  },
  {
   "cell_type": "code",
   "execution_count": null,
   "id": "5df7f24a",
   "metadata": {},
   "outputs": [],
   "source": [
    "from profab.model_learn.classifications import classification_methods\n",
    "model = classification_methods(X_train,y_train, ml_type = 'CNN', path = 'model.txt')"
   ]
  },
  {
   "cell_type": "markdown",
   "id": "20ca9f59",
   "metadata": {},
   "source": [
    "## d. Evaluation"
   ]
  },
  {
   "cell_type": "code",
   "execution_count": null,
   "id": "a5970d22",
   "metadata": {},
   "outputs": [],
   "source": [
    "from profab.model_evaluate.evaluation_metrics import evaluate_score\n",
    "test_score = evaluate_score(model,X_test,y_test,isDeep = True)"
   ]
  }
 ],
 "metadata": {
  "kernelspec": {
   "display_name": "Python 3 (ipykernel)",
   "language": "python",
   "name": "python3"
  },
  "language_info": {
   "codemirror_mode": {
    "name": "ipython",
    "version": 3
   },
   "file_extension": ".py",
   "mimetype": "text/x-python",
   "name": "python",
   "nbconvert_exporter": "python",
   "pygments_lexer": "ipython3",
   "version": "3.7.6"
  }
 },
 "nbformat": 4,
 "nbformat_minor": 5
}
